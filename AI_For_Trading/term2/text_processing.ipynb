{
 "cells": [
  {
   "cell_type": "markdown",
   "metadata": {},
   "source": [
    "# Text Processing\n",
    "\n",
    "## Capturing Text Data\n",
    "\n",
    "### Plain Text"
   ]
  },
  {
   "cell_type": "code",
   "execution_count": 1,
   "metadata": {},
   "outputs": [
    {
     "name": "stdout",
     "output_type": "stream",
     "text": [
      "Hieroglyphic writing dates from c. 3000 BC, and is composed of hundreds of symbols. A hieroglyph can represent a word, a sound, or a silent determinative; and the same symbol can serve different purposes in different contexts. Hieroglyphs were a formal script, used on stone monuments and in tombs, that could be as detailed as individual works of art.\n",
      "\n"
     ]
    }
   ],
   "source": [
    "import os\n",
    "\n",
    "# Read in a plain text file\n",
    "with open(os.path.join(\"data\", \"hieroglyph.txt\"), \"r\") as f:\n",
    "    text = f.read()\n",
    "    print(text)"
   ]
  },
  {
   "cell_type": "markdown",
   "metadata": {},
   "source": [
    "### Tabular Data"
   ]
  },
  {
   "cell_type": "code",
   "execution_count": 2,
   "metadata": {
    "scrolled": true
   },
   "outputs": [
    {
     "data": {
      "text/html": [
       "<div>\n",
       "<style>\n",
       "    .dataframe thead tr:only-child th {\n",
       "        text-align: right;\n",
       "    }\n",
       "\n",
       "    .dataframe thead th {\n",
       "        text-align: left;\n",
       "    }\n",
       "\n",
       "    .dataframe tbody tr th {\n",
       "        vertical-align: top;\n",
       "    }\n",
       "</style>\n",
       "<table border=\"1\" class=\"dataframe\">\n",
       "  <thead>\n",
       "    <tr style=\"text-align: right;\">\n",
       "      <th></th>\n",
       "      <th>publisher</th>\n",
       "      <th>title</th>\n",
       "    </tr>\n",
       "  </thead>\n",
       "  <tbody>\n",
       "    <tr>\n",
       "      <th>0</th>\n",
       "      <td>Livemint</td>\n",
       "      <td>fed's charles plosser sees high bar for change...</td>\n",
       "    </tr>\n",
       "    <tr>\n",
       "      <th>1</th>\n",
       "      <td>IFA Magazine</td>\n",
       "      <td>us open: stocks fall after fed official hints ...</td>\n",
       "    </tr>\n",
       "    <tr>\n",
       "      <th>2</th>\n",
       "      <td>IFA Magazine</td>\n",
       "      <td>fed risks falling 'behind the curve', charles ...</td>\n",
       "    </tr>\n",
       "    <tr>\n",
       "      <th>3</th>\n",
       "      <td>Moneynews</td>\n",
       "      <td>fed's plosser: nasty weather has curbed job gr...</td>\n",
       "    </tr>\n",
       "    <tr>\n",
       "      <th>4</th>\n",
       "      <td>NASDAQ</td>\n",
       "      <td>plosser: fed may have to accelerate tapering pace</td>\n",
       "    </tr>\n",
       "  </tbody>\n",
       "</table>\n",
       "</div>"
      ],
      "text/plain": [
       "      publisher                                              title\n",
       "0      Livemint  fed's charles plosser sees high bar for change...\n",
       "1  IFA Magazine  us open: stocks fall after fed official hints ...\n",
       "2  IFA Magazine  fed risks falling 'behind the curve', charles ...\n",
       "3     Moneynews  fed's plosser: nasty weather has curbed job gr...\n",
       "4        NASDAQ  plosser: fed may have to accelerate tapering pace"
      ]
     },
     "execution_count": 2,
     "metadata": {},
     "output_type": "execute_result"
    }
   ],
   "source": [
    "import pandas as pd\n",
    "\n",
    "# Extract text column from a dataframe\n",
    "df = pd.read_csv(os.path.join(\"data\", \"news.csv\"))\n",
    "df.head()[['publisher', 'title']]\n",
    "\n",
    "# Convert text column to lowercase\n",
    "df['title'] = df['title'].str.lower()\n",
    "df.head()[['publisher', 'title']]"
   ]
  },
  {
   "cell_type": "markdown",
   "metadata": {},
   "source": [
    "### Online Resource"
   ]
  },
  {
   "cell_type": "code",
   "execution_count": 3,
   "metadata": {
    "scrolled": true
   },
   "outputs": [
    {
     "name": "stdout",
     "output_type": "stream",
     "text": [
      "{\n",
      "    \"success\": {\n",
      "        \"total\": 1\n",
      "    },\n",
      "    \"contents\": {\n",
      "        \"quotes\": [\n",
      "            {\n",
      "                \"quote\": \"When I was a little kid, I was really scared of the dark. But then I came to understand, dark just means the absence of photons in the visible wavelength\\u2014400 to 700 nanometers. Then I thought, well it\\u2019s really silly to be afraid of a lack of photons. Then I wasn\\u2019t afraid of the dark anymore after that.\",\n",
      "                \"author\": \"Elon Musk\",\n",
      "                \"length\": \"303\",\n",
      "                \"tags\": [\n",
      "                    \"fear\",\n",
      "                    \"inspire\"\n",
      "                ],\n",
      "                \"category\": \"inspire\",\n",
      "                \"title\": \"Inspiring Quote of the day\",\n",
      "                \"date\": \"2019-01-26\",\n",
      "                \"id\": null\n",
      "            }\n",
      "        ],\n",
      "        \"copyright\": \"2017-19 theysaidso.com\"\n",
      "    }\n",
      "}\n",
      "When I was a little kid, I was really scared of the dark. But then I came to understand, dark just means the absence of photons in the visible wavelength—400 to 700 nanometers. Then I thought, well it’s really silly to be afraid of a lack of photons. Then I wasn’t afraid of the dark anymore after that. \n",
      "-- Elon Musk\n"
     ]
    }
   ],
   "source": [
    "import requests\n",
    "import json\n",
    "\n",
    "# Fetch data from a REST API\n",
    "r = requests.get(\n",
    "    \"https://quotes.rest/qod.json\")\n",
    "res = r.json()\n",
    "print(json.dumps(res, indent=4))\n",
    "\n",
    "# Extract relevant object and field\n",
    "q = res[\"contents\"][\"quotes\"][0]\n",
    "print(q[\"quote\"], \"\\n--\", q[\"author\"])"
   ]
  },
  {
   "cell_type": "markdown",
   "metadata": {},
   "source": [
    "## Cleaning"
   ]
  },
  {
   "cell_type": "code",
   "execution_count": 4,
   "metadata": {
    "scrolled": true
   },
   "outputs": [
    {
     "name": "stdout",
     "output_type": "stream",
     "text": [
      "<html op=\"news\"><head><meta name=\"referrer\" content=\"origin\"><meta name=\"viewport\" content=\"width=device-width, initial-scale=1.0\"><link rel=\"stylesheet\" type=\"text/css\" href=\"news.css?pwvKOaFYLkbdxO4yq3qA\">\n",
      "            <link rel=\"shortcut icon\" href=\"favicon.ico\">\n",
      "          <link rel=\"alternate\" type=\"application/rss+xml\" title=\"RSS\" href=\"rss\">\n",
      "        <title>Hacker News</title></head><body><center><table id=\"hnmain\" border=\"0\" cellpadding=\"0\" cellspacing=\"0\" width=\"85%\" bgcolor=\"#f6f6ef\">\n",
      "        <tr><td bgcolor=\"#ff6600\"><table border=\"0\" cellpadding=\"0\" cellspacing=\"0\" width=\"100%\" style=\"padding:2px\"><tr><td style=\"width:18px;padding-right:4px\"><a href=\"https://news.ycombinator.com\"><img src=\"y18.gif\" width=\"18\" height=\"18\" style=\"border:1px white solid;\"></a></td>\n",
      "                  <td style=\"line-height:12pt; height:10px;\"><span class=\"pagetop\"><b class=\"hnname\"><a href=\"news\">Hacker News</a></b>\n",
      "              <a href=\"newest\">new</a> | <a href=\"newcomments\">comments</a> | <a href=\"ask\">ask</a> | <a href=\"show\">show</a> | <a href=\"jobs\">jobs</a> | <a href=\"submit\">submit</a>            </span></td><td style=\"text-align:right;padding-right:4px;\"><span class=\"pagetop\">\n",
      "                              <a href=\"login?goto=news\">login</a>\n",
      "                          </span></td>\n",
      "              </tr></table></td></tr>\n",
      "<tr id=\"pagespace\" title=\"\" style=\"height:10px\"></tr><tr><td><table border=\"0\" cellpadding=\"0\" cellspacing=\"0\" class=\"itemlist\">\n",
      "              <tr class='athing' id='19006336'>\n",
      "      <td align=\"right\" valign=\"top\" class=\"title\"><span class=\"rank\">1.</span></td>      <td valign=\"top\" class=\"votelinks\"><center><a id='up_19006336' href='vote?id=19006336&amp;how=up&amp;goto=news'><div class='votearrow' title='upvote'></div></a></center></td><td class=\"title\"><a href=\"https://github.com/schlae/snark-barker\" class=\"storylink\">Snark Barker: A 100% compatible replica of the famed SB 1.0 soundcard</a><span class=\"sitebit comhead\"> (<a href=\"from?site=github.com\"><span class=\"sitestr\">github.com</span></a>)</span></td></tr><tr><td colspan=\"2\"></td><td class=\"subtext\">\n",
      "        <span class=\"score\" id=\"score_19006336\">122 points</span> by <a href=\"user?id=segfaultbuserr\" class=\"hnuser\">segfaultbuserr</a> <span class=\"age\"><a href=\"item?id=19006336\">3 hours ago</a></span> <span id=\"unv_19006336\"></span> | <a href=\"hide?id=19006336&amp;goto=news\">hide</a> | <a href=\"item?id=19006336\">40&nbsp;comments</a>              </td></tr>\n",
      "      <tr class=\"spacer\" style=\"height:5px\"></tr>\n",
      "                <tr class='athing' id='19006939'>\n",
      "      <td align=\"right\" valign=\"top\" class=\"title\"><span class=\"rank\">2.</span></td>      <td valign=\"top\" class=\"votelinks\"><center><a id='up_19006939' href='vote?id=19006939&amp;how=up&amp;goto=news'><div class='votearrow' title='upvote'></div></a></center></td><td class=\"title\"><a href=\"http://objects.monarc.lu/object/view/27\" class=\"storylink\" rel=\"nofollow\">NIST Cybersecurity Framework in MOSP</a><span class=\"sitebit comhead\"> (<a href=\"from?site=monarc.lu\"><span class=\"sitestr\">monarc.lu</span></a>)</span></td></tr><tr><td colspan=\"2\"></td><td class=\"subtext\">\n",
      "        <span class=\"score\" id=\"score_19006939\">8 points</span> by <a href=\"user?id=cedricbonhomme\" class=\"hnuser\">cedricbonhomme</a> <span class=\"age\"><a href=\"item?id=19006939\">1 hour ago</a></span> <span id=\"unv_19006939\"></span> | <a href=\"hide?id=19006939&amp;goto=news\">hide</a> | <a href=\"item?id=19006939\">1&nbsp;comment</a>              </td></tr>\n",
      "      <tr class=\"spacer\" style=\"height:5px\"></tr>\n",
      "                <tr class='athing' id='19006477'>\n",
      "      <td align=\"right\" valign=\"top\" class=\"title\"><span class=\"rank\">3.</span></td>      <td valign=\"top\" class=\"votelinks\"><center><a id='up_19006477' href='vote?id=19006477&amp;how=up&amp;goto=news'><div class='votearrow' title='upvote'></div></a></center></td><td class=\"title\"><a href=\"https://www.nytimes.com/aponline/2019/01/25/us/ap-cybersecurity-undercover-operatives.html\" class=\"storylink\">Undercover Agents Target Cybersecurity Watchdog</a><span class=\"sitebit comhead\"> (<a href=\"from?site=nytimes.com\"><span class=\"sitestr\">nytimes.com</span></a>)</span></td></tr><tr><td colspan=\"2\"></td><td class=\"subtext\">\n",
      "        <span class=\"score\" id=\"score_19006477\">17 points</span> by <a href=\"user?id=jbegley\" class=\"hnuser\">jbegley</a> <span class=\"age\"><a href=\"item?id=19006477\">2 hours ago</a></span> <span id=\"unv_19006477\"></span> | <a href=\"hide?id=19006477&amp;goto=news\">hide</a> | <a href=\"item?id=19006477\">4&nbsp;comments</a>              </td></tr>\n",
      "      <tr class=\"spacer\" style=\"height:5px\"></tr>\n",
      "                <tr class='athing' id='19006036'>\n",
      "      <td align=\"right\" valign=\"top\" class=\"title\"><span class=\"rank\">4.</span></td>      <td valign=\"top\" class=\"votelinks\"><center><a id='up_19006036' href='vote?id=19006036&amp;how=up&amp;goto=news'><div class='votearrow' title='upvote'></div></a></center></td><td class=\"title\"><a href=\"https://fossil-scm.org/fossil/doc/trunk/www/fossil-v-git.wiki\" class=\"storylink\">Fossil vs Git</a><span class=\"sitebit comhead\"> (<a href=\"from?site=fossil-scm.org\"><span class=\"sitestr\">fossil-scm.org</span></a>)</span></td></tr><tr><td colspan=\"2\"></td><td class=\"subtext\">\n",
      "        <span class=\"score\" id=\"score_19006036\">122 points</span> by <a href=\"user?id=afiori\" class=\"hnuser\">afiori</a> <span class=\"age\"><a href=\"item?id=19006036\">4 hours ago</a></span> <span id=\"unv_19006036\"></span> | <a href=\"hide?id=19006036&amp;goto=news\">hide</a> | <a href=\"item?id=19006036\">89&nbsp;comments</a>              </td></tr>\n",
      "      <tr class=\"spacer\" style=\"height:5px\"></tr>\n",
      "                <tr class='athing' id='19006919'>\n",
      "      <td align=\"right\" valign=\"top\" class=\"title\"><span class=\"rank\">5.</span></td>      <td valign=\"top\" class=\"votelinks\"><center><a id='up_19006919' href='vote?id=19006919&amp;how=up&amp;goto=news'><div class='votearrow' title='upvote'></div></a></center></td><td class=\"title\"><a href=\"https://threader.app/thread/1088914192847917056\" class=\"storylink\">“Facebook are going to monetize encrypted messaging by consolidating metadata”</a><span class=\"sitebit comhead\"> (<a href=\"from?site=threader.app\"><span class=\"sitestr\">threader.app</span></a>)</span></td></tr><tr><td colspan=\"2\"></td><td class=\"subtext\">\n",
      "        <span class=\"score\" id=\"score_19006919\">28 points</span> by <a href=\"user?id=mariedm\" class=\"hnuser\">mariedm</a> <span class=\"age\"><a href=\"item?id=19006919\">1 hour ago</a></span> <span id=\"unv_19006919\"></span> | <a href=\"hide?id=19006919&amp;goto=news\">hide</a> | <a href=\"item?id=19006919\">5&nbsp;comments</a>              </td></tr>\n",
      "      <tr class=\"spacer\" style=\"height:5px\"></tr>\n",
      "                <tr class='athing' id='19006661'>\n",
      "      <td align=\"right\" valign=\"top\" class=\"title\"><span class=\"rank\">6.</span></td>      <td valign=\"top\" class=\"votelinks\"><center><a id='up_19006661' href='vote?id=19006661&amp;how=up&amp;goto=news'><div class='votearrow' title='upvote'></div></a></center></td><td class=\"title\"><a href=\"https://freenode-machinelearning.github.io/Resources/ArticlesReview.html#papers\" class=\"storylink\">List of review articles on ML and AI that are on arXiv</a><span class=\"sitebit comhead\"> (<a href=\"from?site=freenode-machinelearning.github.io\"><span class=\"sitestr\">freenode-machinelearning.github.io</span></a>)</span></td></tr><tr><td colspan=\"2\"></td><td class=\"subtext\">\n",
      "        <span class=\"score\" id=\"score_19006661\">26 points</span> by <a href=\"user?id=painful\" class=\"hnuser\">painful</a> <span class=\"age\"><a href=\"item?id=19006661\">2 hours ago</a></span> <span id=\"unv_19006661\"></span> | <a href=\"hide?id=19006661&amp;goto=news\">hide</a> | <a href=\"item?id=19006661\">1&nbsp;comment</a>              </td></tr>\n",
      "      <tr class=\"spacer\" style=\"height:5px\"></tr>\n",
      "                <tr class='athing' id='19005664'>\n",
      "      <td align=\"right\" valign=\"top\" class=\"title\"><span class=\"rank\">7.</span></td>      <td valign=\"top\" class=\"votelinks\"><center><a id='up_19005664' href='vote?id=19005664&amp;how=up&amp;goto=news'><div class='votearrow' title='upvote'></div></a></center></td><td class=\"title\"><a href=\"https://www.atlasobscura.com/articles/bartender-antarctica-south-pole\" class=\"storylink\">The Perils and Pleasures of Bartending in Antarctica (2017)</a><span class=\"sitebit comhead\"> (<a href=\"from?site=atlasobscura.com\"><span class=\"sitestr\">atlasobscura.com</span></a>)</span></td></tr><tr><td colspan=\"2\"></td><td class=\"subtext\">\n",
      "        <span class=\"score\" id=\"score_19005664\">80 points</span> by <a href=\"user?id=mpweiher\" class=\"hnuser\">mpweiher</a> <span class=\"age\"><a href=\"item?id=19005664\">7 hours ago</a></span> <span id=\"unv_19005664\"></span> | <a href=\"hide?id=19005664&amp;goto=news\">hide</a> | <a href=\"item?id=19005664\">25&nbsp;comments</a>              </td></tr>\n",
      "      <tr class=\"spacer\" style=\"height:5px\"></tr>\n",
      "                <tr class='athing' id='19006797'>\n",
      "      <td align=\"right\" valign=\"top\" class=\"title\"><span class=\"rank\">8.</span></td>      <td valign=\"top\" class=\"votelinks\"><center><a id='up_19006797' href='vote?id=19006797&amp;how=up&amp;goto=news'><div class='votearrow' title='upvote'></div></a></center></td><td class=\"title\"><a href=\"https://www.nytimes.com/2019/01/26/business/against-hustle-culture-rise-and-grind-tgim.html\" class=\"storylink\">Why Are Young People Pretending to Love Work?</a><span class=\"sitebit comhead\"> (<a href=\"from?site=nytimes.com\"><span class=\"sitestr\">nytimes.com</span></a>)</span></td></tr><tr><td colspan=\"2\"></td><td class=\"subtext\">\n",
      "        <span class=\"score\" id=\"score_19006797\">87 points</span> by <a href=\"user?id=mistersquid\" class=\"hnuser\">mistersquid</a> <span class=\"age\"><a href=\"item?id=19006797\">1 hour ago</a></span> <span id=\"unv_19006797\"></span> | <a href=\"hide?id=19006797&amp;goto=news\">hide</a> | <a href=\"item?id=19006797\">58&nbsp;comments</a>              </td></tr>\n",
      "      <tr class=\"spacer\" style=\"height:5px\"></tr>\n",
      "                <tr class='athing' id='19005426'>\n",
      "      <td align=\"right\" valign=\"top\" class=\"title\"><span class=\"rank\">9.</span></td>      <td valign=\"top\" class=\"votelinks\"><center><a id='up_19005426' href='vote?id=19005426&amp;how=up&amp;goto=news'><div class='votearrow' title='upvote'></div></a></center></td><td class=\"title\"><a href=\"https://developers.redhat.com/blog/2018/11/20/buildah-podman-containers-without-daemons/\" class=\"storylink\">Podman and Buildah available in RHEL 7.6 and RHEL 8 Beta</a><span class=\"sitebit comhead\"> (<a href=\"from?site=redhat.com\"><span class=\"sitestr\">redhat.com</span></a>)</span></td></tr><tr><td colspan=\"2\"></td><td class=\"subtext\">\n",
      "        <span class=\"score\" id=\"score_19005426\">71 points</span> by <a href=\"user?id=siddharthgoel88\" class=\"hnuser\">siddharthgoel88</a> <span class=\"age\"><a href=\"item?id=19005426\">9 hours ago</a></span> <span id=\"unv_19005426\"></span> | <a href=\"hide?id=19005426&amp;goto=news\">hide</a> | <a href=\"item?id=19005426\">19&nbsp;comments</a>              </td></tr>\n",
      "      <tr class=\"spacer\" style=\"height:5px\"></tr>\n",
      "                <tr class='athing' id='18985685'>\n",
      "      <td align=\"right\" valign=\"top\" class=\"title\"><span class=\"rank\">10.</span></td>      <td valign=\"top\" class=\"votelinks\"><center><a id='up_18985685' href='vote?id=18985685&amp;how=up&amp;goto=news'><div class='votearrow' title='upvote'></div></a></center></td><td class=\"title\"><a href=\"https://www.commentarymagazine.com/articles/etude-brute/\" class=\"storylink\">Étude, Brute? The case for Chopin</a><span class=\"sitebit comhead\"> (<a href=\"from?site=commentarymagazine.com\"><span class=\"sitestr\">commentarymagazine.com</span></a>)</span></td></tr><tr><td colspan=\"2\"></td><td class=\"subtext\">\n",
      "        <span class=\"score\" id=\"score_18985685\">12 points</span> by <a href=\"user?id=tintinnabula\" class=\"hnuser\">tintinnabula</a> <span class=\"age\"><a href=\"item?id=18985685\">5 hours ago</a></span> <span id=\"unv_18985685\"></span> | <a href=\"hide?id=18985685&amp;goto=news\">hide</a> | <a href=\"item?id=18985685\">6&nbsp;comments</a>              </td></tr>\n",
      "      <tr class=\"spacer\" style=\"height:5px\"></tr>\n",
      "                <tr class='athing' id='18997442'>\n",
      "      <td align=\"right\" valign=\"top\" class=\"title\"><span class=\"rank\">11.</span></td>      <td valign=\"top\" class=\"votelinks\"><center><a id='up_18997442' href='vote?id=18997442&amp;how=up&amp;goto=news'><div class='votearrow' title='upvote'></div></a></center></td><td class=\"title\"><a href=\"https://www.seattletimes.com/business/boeing-aerospace/boeing-overhauls-its-quality-controls-more-high-tech-tracking-but-fewer-inspectors/\" class=\"storylink\">Boeing overhauls quality controls: more high-tech tracking but fewer inspectors</a><span class=\"sitebit comhead\"> (<a href=\"from?site=seattletimes.com\"><span class=\"sitestr\">seattletimes.com</span></a>)</span></td></tr><tr><td colspan=\"2\"></td><td class=\"subtext\">\n",
      "        <span class=\"score\" id=\"score_18997442\">26 points</span> by <a href=\"user?id=wallflower\" class=\"hnuser\">wallflower</a> <span class=\"age\"><a href=\"item?id=18997442\">8 hours ago</a></span> <span id=\"unv_18997442\"></span> | <a href=\"hide?id=18997442&amp;goto=news\">hide</a> | <a href=\"item?id=18997442\">12&nbsp;comments</a>              </td></tr>\n",
      "      <tr class=\"spacer\" style=\"height:5px\"></tr>\n",
      "                <tr class='athing' id='19001641'>\n",
      "      <td align=\"right\" valign=\"top\" class=\"title\"><span class=\"rank\">12.</span></td>      <td valign=\"top\" class=\"votelinks\"><center><a id='up_19001641' href='vote?id=19001641&amp;how=up&amp;goto=news'><div class='votearrow' title='upvote'></div></a></center></td><td class=\"title\"><a href=\"https://www.walesonline.co.uk/news/health/scientists-transplanting-faeces-obese-people-15725826?_ga=2.61629100.1888045544.1548445055-1170985165.1548445054\" class=\"storylink\">Scientists are transplanting faeces into obese people with type 2 diabetes</a><span class=\"sitebit comhead\"> (<a href=\"from?site=walesonline.co.uk\"><span class=\"sitestr\">walesonline.co.uk</span></a>)</span></td></tr><tr><td colspan=\"2\"></td><td class=\"subtext\">\n",
      "        <span class=\"score\" id=\"score_19001641\">26 points</span> by <a href=\"user?id=prostoalex\" class=\"hnuser\">prostoalex</a> <span class=\"age\"><a href=\"item?id=19001641\">6 hours ago</a></span> <span id=\"unv_19001641\"></span> | <a href=\"hide?id=19001641&amp;goto=news\">hide</a> | <a href=\"item?id=19001641\">25&nbsp;comments</a>              </td></tr>\n",
      "      <tr class=\"spacer\" style=\"height:5px\"></tr>\n",
      "                <tr class='athing' id='19005665'>\n",
      "      <td align=\"right\" valign=\"top\" class=\"title\"><span class=\"rank\">13.</span></td>      <td valign=\"top\" class=\"votelinks\"><center><a id='up_19005665' href='vote?id=19005665&amp;how=up&amp;goto=news'><div class='votearrow' title='upvote'></div></a></center></td><td class=\"title\"><a href=\"item?id=19005665\" class=\"storylink\">Show HN: OormiPass – free, cross platform and open sourced password manager</a></td></tr><tr><td colspan=\"2\"></td><td class=\"subtext\">\n",
      "        <span class=\"score\" id=\"score_19005665\">35 points</span> by <a href=\"user?id=oormicreations\" class=\"hnuser\">oormicreations</a> <span class=\"age\"><a href=\"item?id=19005665\">7 hours ago</a></span> <span id=\"unv_19005665\"></span> | <a href=\"hide?id=19005665&amp;goto=news\">hide</a> | <a href=\"item?id=19005665\">34&nbsp;comments</a>              </td></tr>\n",
      "      <tr class=\"spacer\" style=\"height:5px\"></tr>\n",
      "                <tr class='athing' id='19005833'>\n",
      "      <td align=\"right\" valign=\"top\" class=\"title\"><span class=\"rank\">14.</span></td>      <td valign=\"top\" class=\"votelinks\"><center><a id='up_19005833' href='vote?id=19005833&amp;how=up&amp;goto=news'><div class='votearrow' title='upvote'></div></a></center></td><td class=\"title\"><a href=\"https://www.zeit.de/digital/internet/2019-01/privacy-katarina-barley-data-protection-facebook-ad-targeting-mark-zuckerberg\" class=\"storylink\">We Can't Just Assume that Facebook Will Do Its Best</a><span class=\"sitebit comhead\"> (<a href=\"from?site=zeit.de\"><span class=\"sitestr\">zeit.de</span></a>)</span></td></tr><tr><td colspan=\"2\"></td><td class=\"subtext\">\n",
      "        <span class=\"score\" id=\"score_19005833\">157 points</span> by <a href=\"user?id=Quanttek\" class=\"hnuser\">Quanttek</a> <span class=\"age\"><a href=\"item?id=19005833\">6 hours ago</a></span> <span id=\"unv_19005833\"></span> | <a href=\"hide?id=19005833&amp;goto=news\">hide</a> | <a href=\"item?id=19005833\">56&nbsp;comments</a>              </td></tr>\n",
      "      <tr class=\"spacer\" style=\"height:5px\"></tr>\n",
      "                <tr class='athing' id='19000109'>\n",
      "      <td align=\"right\" valign=\"top\" class=\"title\"><span class=\"rank\">15.</span></td>      <td valign=\"top\" class=\"votelinks\"><center><a id='up_19000109' href='vote?id=19000109&amp;how=up&amp;goto=news'><div class='votearrow' title='upvote'></div></a></center></td><td class=\"title\"><a href=\"http://websocketd.com/\" class=\"storylink\">Websocketd</a><span class=\"sitebit comhead\"> (<a href=\"from?site=websocketd.com\"><span class=\"sitestr\">websocketd.com</span></a>)</span></td></tr><tr><td colspan=\"2\"></td><td class=\"subtext\">\n",
      "        <span class=\"score\" id=\"score_19000109\">541 points</span> by <a href=\"user?id=mmcclure\" class=\"hnuser\">mmcclure</a> <span class=\"age\"><a href=\"item?id=19000109\">17 hours ago</a></span> <span id=\"unv_19000109\"></span> | <a href=\"hide?id=19000109&amp;goto=news\">hide</a> | <a href=\"item?id=19000109\">183&nbsp;comments</a>              </td></tr>\n",
      "      <tr class=\"spacer\" style=\"height:5px\"></tr>\n",
      "                <tr class='athing' id='19005522'>\n",
      "      <td align=\"right\" valign=\"top\" class=\"title\"><span class=\"rank\">16.</span></td>      <td valign=\"top\" class=\"votelinks\"><center><a id='up_19005522' href='vote?id=19005522&amp;how=up&amp;goto=news'><div class='votearrow' title='upvote'></div></a></center></td><td class=\"title\"><a href=\"https://mixmastamyk.bitbucket.io/pro_soft_dev/index.html\" class=\"storylink\">Professional Software Development</a><span class=\"sitebit comhead\"> (<a href=\"from?site=mixmastamyk.bitbucket.io\"><span class=\"sitestr\">mixmastamyk.bitbucket.io</span></a>)</span></td></tr><tr><td colspan=\"2\"></td><td class=\"subtext\">\n",
      "        <span class=\"score\" id=\"score_19005522\">149 points</span> by <a href=\"user?id=metmirr\" class=\"hnuser\">metmirr</a> <span class=\"age\"><a href=\"item?id=19005522\">8 hours ago</a></span> <span id=\"unv_19005522\"></span> | <a href=\"hide?id=19005522&amp;goto=news\">hide</a> | <a href=\"item?id=19005522\">33&nbsp;comments</a>              </td></tr>\n",
      "      <tr class=\"spacer\" style=\"height:5px\"></tr>\n",
      "                <tr class='athing' id='19003384'>\n",
      "      <td align=\"right\" valign=\"top\" class=\"title\"><span class=\"rank\">17.</span></td>      <td valign=\"top\" class=\"votelinks\"><center><a id='up_19003384' href='vote?id=19003384&amp;how=up&amp;goto=news'><div class='votearrow' title='upvote'></div></a></center></td><td class=\"title\"><a href=\"http://www.thehistoryblog.com/archives/53993\" class=\"storylink\" rel=\"nofollow\">A tale of Visigothic treasure lost and found</a><span class=\"sitebit comhead\"> (<a href=\"from?site=thehistoryblog.com\"><span class=\"sitestr\">thehistoryblog.com</span></a>)</span></td></tr><tr><td colspan=\"2\"></td><td class=\"subtext\">\n",
      "        <span class=\"score\" id=\"score_19003384\">5 points</span> by <a href=\"user?id=diodorus\" class=\"hnuser\">diodorus</a> <span class=\"age\"><a href=\"item?id=19003384\">3 hours ago</a></span> <span id=\"unv_19003384\"></span> | <a href=\"hide?id=19003384&amp;goto=news\">hide</a> | <a href=\"item?id=19003384\">discuss</a>              </td></tr>\n",
      "      <tr class=\"spacer\" style=\"height:5px\"></tr>\n",
      "                <tr class='athing' id='19002280'>\n",
      "      <td align=\"right\" valign=\"top\" class=\"title\"><span class=\"rank\">18.</span></td>      <td valign=\"top\" class=\"votelinks\"><center><a id='up_19002280' href='vote?id=19002280&amp;how=up&amp;goto=news'><div class='votearrow' title='upvote'></div></a></center></td><td class=\"title\"><a href=\"https://technicshistory.wordpress.com/2018/12/13/discovering-interactivity/\" class=\"storylink\">History of Computing: Discovering Interactivity</a><span class=\"sitebit comhead\"> (<a href=\"from?site=technicshistory.wordpress.com\"><span class=\"sitestr\">technicshistory.wordpress.com</span></a>)</span></td></tr><tr><td colspan=\"2\"></td><td class=\"subtext\">\n",
      "        <span class=\"score\" id=\"score_19002280\">13 points</span> by <a href=\"user?id=cfmcdonald\" class=\"hnuser\">cfmcdonald</a> <span class=\"age\"><a href=\"item?id=19002280\">5 hours ago</a></span> <span id=\"unv_19002280\"></span> | <a href=\"hide?id=19002280&amp;goto=news\">hide</a> | <a href=\"item?id=19002280\">1&nbsp;comment</a>              </td></tr>\n",
      "      <tr class=\"spacer\" style=\"height:5px\"></tr>\n",
      "                <tr class='athing' id='18995823'>\n",
      "      <td align=\"right\" valign=\"top\" class=\"title\"><span class=\"rank\">19.</span></td>      <td valign=\"top\" class=\"votelinks\"><center><a id='up_18995823' href='vote?id=18995823&amp;how=up&amp;goto=news'><div class='votearrow' title='upvote'></div></a></center></td><td class=\"title\"><a href=\"https://www.revealnews.org/article/facebook-knowingly-duped-game-playing-kids-and-their-parents-out-of-money/\" class=\"storylink\">Facebook Let Kids Rack Up Charges on Parents' Credit Cards</a><span class=\"sitebit comhead\"> (<a href=\"from?site=revealnews.org\"><span class=\"sitestr\">revealnews.org</span></a>)</span></td></tr><tr><td colspan=\"2\"></td><td class=\"subtext\">\n",
      "        <span class=\"score\" id=\"score_18995823\">295 points</span> by <a href=\"user?id=DamnInteresting\" class=\"hnuser\">DamnInteresting</a> <span class=\"age\"><a href=\"item?id=18995823\">1 day ago</a></span> <span id=\"unv_18995823\"></span> | <a href=\"hide?id=18995823&amp;goto=news\">hide</a> | <a href=\"item?id=18995823\">136&nbsp;comments</a>              </td></tr>\n",
      "      <tr class=\"spacer\" style=\"height:5px\"></tr>\n",
      "                <tr class='athing' id='19006108'>\n",
      "      <td align=\"right\" valign=\"top\" class=\"title\"><span class=\"rank\">20.</span></td>      <td valign=\"top\" class=\"votelinks\"><center><a id='up_19006108' href='vote?id=19006108&amp;how=up&amp;goto=news'><div class='votearrow' title='upvote'></div></a></center></td><td class=\"title\"><a href=\"https://www.nytimes.com/2019/01/26/style/amazon-reviews-vine.html\" class=\"storylink\" rel=\"nofollow\">Amazon’s Power Reviewers</a><span class=\"sitebit comhead\"> (<a href=\"from?site=nytimes.com\"><span class=\"sitestr\">nytimes.com</span></a>)</span></td></tr><tr><td colspan=\"2\"></td><td class=\"subtext\">\n",
      "        <span class=\"score\" id=\"score_19006108\">6 points</span> by <a href=\"user?id=flippyhead\" class=\"hnuser\">flippyhead</a> <span class=\"age\"><a href=\"item?id=19006108\">4 hours ago</a></span> <span id=\"unv_19006108\"></span> | <a href=\"hide?id=19006108&amp;goto=news\">hide</a> | <a href=\"item?id=19006108\">discuss</a>              </td></tr>\n",
      "      <tr class=\"spacer\" style=\"height:5px\"></tr>\n",
      "                <tr class='athing' id='19004812'>\n",
      "      <td align=\"right\" valign=\"top\" class=\"title\"><span class=\"rank\">21.</span></td>      <td valign=\"top\" class=\"votelinks\"><center><a id='up_19004812' href='vote?id=19004812&amp;how=up&amp;goto=news'><div class='votearrow' title='upvote'></div></a></center></td><td class=\"title\"><a href=\"https://github.com/boazsegev/facil.io\" class=\"storylink\">Facil.io: A micro-framework for C web applications</a><span class=\"sitebit comhead\"> (<a href=\"from?site=github.com\"><span class=\"sitestr\">github.com</span></a>)</span></td></tr><tr><td colspan=\"2\"></td><td class=\"subtext\">\n",
      "        <span class=\"score\" id=\"score_19004812\">76 points</span> by <a href=\"user?id=anderspitman\" class=\"hnuser\">anderspitman</a> <span class=\"age\"><a href=\"item?id=19004812\">12 hours ago</a></span> <span id=\"unv_19004812\"></span> | <a href=\"hide?id=19004812&amp;goto=news\">hide</a> | <a href=\"item?id=19004812\">18&nbsp;comments</a>              </td></tr>\n",
      "      <tr class=\"spacer\" style=\"height:5px\"></tr>\n",
      "                <tr class='athing' id='19004283'>\n",
      "      <td align=\"right\" valign=\"top\" class=\"title\"><span class=\"rank\">22.</span></td>      <td valign=\"top\" class=\"votelinks\"><center><a id='up_19004283' href='vote?id=19004283&amp;how=up&amp;goto=news'><div class='votearrow' title='upvote'></div></a></center></td><td class=\"title\"><a href=\"https://alexhude.github.io/2019/01/24/hacking-leica-m240.html\" class=\"storylink\">How to Hack an Expensive Camera</a><span class=\"sitebit comhead\"> (<a href=\"from?site=alexhude.github.io\"><span class=\"sitestr\">alexhude.github.io</span></a>)</span></td></tr><tr><td colspan=\"2\"></td><td class=\"subtext\">\n",
      "        <span class=\"score\" id=\"score_19004283\">370 points</span> by <a href=\"user?id=pi-rat\" class=\"hnuser\">pi-rat</a> <span class=\"age\"><a href=\"item?id=19004283\">15 hours ago</a></span> <span id=\"unv_19004283\"></span> | <a href=\"hide?id=19004283&amp;goto=news\">hide</a> | <a href=\"item?id=19004283\">46&nbsp;comments</a>              </td></tr>\n",
      "      <tr class=\"spacer\" style=\"height:5px\"></tr>\n",
      "                <tr class='athing' id='18988939'>\n",
      "      <td align=\"right\" valign=\"top\" class=\"title\"><span class=\"rank\">23.</span></td>      <td valign=\"top\" class=\"votelinks\"><center><a id='up_18988939' href='vote?id=18988939&amp;how=up&amp;goto=news'><div class='votearrow' title='upvote'></div></a></center></td><td class=\"title\"><a href=\"https://queue.acm.org/detail.cfm?id=3308563\" class=\"storylink\">Design Patterns for Managing Up</a><span class=\"sitebit comhead\"> (<a href=\"from?site=acm.org\"><span class=\"sitestr\">acm.org</span></a>)</span></td></tr><tr><td colspan=\"2\"></td><td class=\"subtext\">\n",
      "        <span class=\"score\" id=\"score_18988939\">251 points</span> by <a href=\"user?id=denzil_correa\" class=\"hnuser\">denzil_correa</a> <span class=\"age\"><a href=\"item?id=18988939\">16 hours ago</a></span> <span id=\"unv_18988939\"></span> | <a href=\"hide?id=18988939&amp;goto=news\">hide</a> | <a href=\"item?id=18988939\">42&nbsp;comments</a>              </td></tr>\n",
      "      <tr class=\"spacer\" style=\"height:5px\"></tr>\n",
      "                <tr class='athing' id='19002696'>\n",
      "      <td align=\"right\" valign=\"top\" class=\"title\"><span class=\"rank\">24.</span></td>      <td valign=\"top\" class=\"votelinks\"><center><a id='up_19002696' href='vote?id=19002696&amp;how=up&amp;goto=news'><div class='votearrow' title='upvote'></div></a></center></td><td class=\"title\"><a href=\"https://www.reuters.com/article/us-davos-meeting-solar-gcl-idUSKCN1PI2OQ\" class=\"storylink\">Party is over for dirt-cheap solar panels, says China executive</a><span class=\"sitebit comhead\"> (<a href=\"from?site=reuters.com\"><span class=\"sitestr\">reuters.com</span></a>)</span></td></tr><tr><td colspan=\"2\"></td><td class=\"subtext\">\n",
      "        <span class=\"score\" id=\"score_19002696\">219 points</span> by <a href=\"user?id=howard941\" class=\"hnuser\">howard941</a> <span class=\"age\"><a href=\"item?id=19002696\">19 hours ago</a></span> <span id=\"unv_19002696\"></span> | <a href=\"hide?id=19002696&amp;goto=news\">hide</a> | <a href=\"item?id=19002696\">76&nbsp;comments</a>              </td></tr>\n",
      "      <tr class=\"spacer\" style=\"height:5px\"></tr>\n",
      "                <tr class='athing' id='19006692'>\n",
      "      <td align=\"right\" valign=\"top\" class=\"title\"><span class=\"rank\">25.</span></td>      <td valign=\"top\" class=\"votelinks\"><center><a id='up_19006692' href='vote?id=19006692&amp;how=up&amp;goto=news'><div class='votearrow' title='upvote'></div></a></center></td><td class=\"title\"><a href=\"https://www.reuters.com/article/us-china-gaming-tencent-holdings/china-deletes-malicious-mobile-apps-idUSKCN1PI0LO\" class=\"storylink\">China deletes 'malicious' mobile apps</a><span class=\"sitebit comhead\"> (<a href=\"from?site=reuters.com\"><span class=\"sitestr\">reuters.com</span></a>)</span></td></tr><tr><td colspan=\"2\"></td><td class=\"subtext\">\n",
      "        <span class=\"score\" id=\"score_19006692\">9 points</span> by <a href=\"user?id=theBashShell\" class=\"hnuser\">theBashShell</a> <span class=\"age\"><a href=\"item?id=19006692\">1 hour ago</a></span> <span id=\"unv_19006692\"></span> | <a href=\"hide?id=19006692&amp;goto=news\">hide</a> | <a href=\"item?id=19006692\">6&nbsp;comments</a>              </td></tr>\n",
      "      <tr class=\"spacer\" style=\"height:5px\"></tr>\n",
      "                <tr class='athing' id='19004899'>\n",
      "      <td align=\"right\" valign=\"top\" class=\"title\"><span class=\"rank\">26.</span></td>      <td valign=\"top\" class=\"votelinks\"><center><a id='up_19004899' href='vote?id=19004899&amp;how=up&amp;goto=news'><div class='votearrow' title='upvote'></div></a></center></td><td class=\"title\"><a href=\"https://www.bloomberg.com/news/articles/2019-01-26/google-memo-on-cost-cuts-sparks-heated-debate-inside-company\" class=\"storylink\">Google Memo on Cost Cuts Sparks Heated Debate Inside Company</a><span class=\"sitebit comhead\"> (<a href=\"from?site=bloomberg.com\"><span class=\"sitestr\">bloomberg.com</span></a>)</span></td></tr><tr><td colspan=\"2\"></td><td class=\"subtext\">\n",
      "        <span class=\"score\" id=\"score_19004899\">161 points</span> by <a href=\"user?id=petethomas\" class=\"hnuser\">petethomas</a> <span class=\"age\"><a href=\"item?id=19004899\">12 hours ago</a></span> <span id=\"unv_19004899\"></span> | <a href=\"hide?id=19004899&amp;goto=news\">hide</a> | <a href=\"item?id=19004899\">162&nbsp;comments</a>              </td></tr>\n",
      "      <tr class=\"spacer\" style=\"height:5px\"></tr>\n",
      "                <tr class='athing' id='18997302'>\n",
      "      <td align=\"right\" valign=\"top\" class=\"title\"><span class=\"rank\">27.</span></td>      <td valign=\"top\" class=\"votelinks\"><center><a id='up_18997302' href='vote?id=18997302&amp;how=up&amp;goto=news'><div class='votearrow' title='upvote'></div></a></center></td><td class=\"title\"><a href=\"https://forums.swift.org/t/apple-is-indeed-patenting-swift-features/19779\" class=\"storylink\">Apple is patenting Swift features</a><span class=\"sitebit comhead\"> (<a href=\"from?site=swift.org\"><span class=\"sitestr\">swift.org</span></a>)</span></td></tr><tr><td colspan=\"2\"></td><td class=\"subtext\">\n",
      "        <span class=\"score\" id=\"score_18997302\">534 points</span> by <a href=\"user?id=maxdesiatov\" class=\"hnuser\">maxdesiatov</a> <span class=\"age\"><a href=\"item?id=18997302\">1 day ago</a></span> <span id=\"unv_18997302\"></span> | <a href=\"hide?id=18997302&amp;goto=news\">hide</a> | <a href=\"item?id=18997302\">192&nbsp;comments</a>              </td></tr>\n",
      "      <tr class=\"spacer\" style=\"height:5px\"></tr>\n",
      "                <tr class='athing' id='18999520'>\n",
      "      <td align=\"right\" valign=\"top\" class=\"title\"><span class=\"rank\">28.</span></td>      <td valign=\"top\" class=\"votelinks\"><center><a id='up_18999520' href='vote?id=18999520&amp;how=up&amp;goto=news'><div class='votearrow' title='upvote'></div></a></center></td><td class=\"title\"><a href=\"http://dbmsmusings.blogspot.com/2019/01/its-time-to-move-on-from-two-phase.html\" class=\"storylink\">It’s Time to Move on from Two Phase Commit</a><span class=\"sitebit comhead\"> (<a href=\"from?site=dbmsmusings.blogspot.com\"><span class=\"sitestr\">dbmsmusings.blogspot.com</span></a>)</span></td></tr><tr><td colspan=\"2\"></td><td class=\"subtext\">\n",
      "        <span class=\"score\" id=\"score_18999520\">353 points</span> by <a href=\"user?id=evanweaver\" class=\"hnuser\">evanweaver</a> <span class=\"age\"><a href=\"item?id=18999520\">1 day ago</a></span> <span id=\"unv_18999520\"></span> | <a href=\"hide?id=18999520&amp;goto=news\">hide</a> | <a href=\"item?id=18999520\">126&nbsp;comments</a>              </td></tr>\n",
      "      <tr class=\"spacer\" style=\"height:5px\"></tr>\n",
      "                <tr class='athing' id='19002282'>\n",
      "      <td align=\"right\" valign=\"top\" class=\"title\"><span class=\"rank\">29.</span></td>      <td valign=\"top\" class=\"votelinks\"><center><a id='up_19002282' href='vote?id=19002282&amp;how=up&amp;goto=news'><div class='votearrow' title='upvote'></div></a></center></td><td class=\"title\"><a href=\"https://www.useloom.com/share/8d148b2be54444909e8408398ab07f83\" class=\"storylink\">Cancelling Dropbox Pro is hard</a><span class=\"sitebit comhead\"> (<a href=\"from?site=useloom.com\"><span class=\"sitestr\">useloom.com</span></a>)</span></td></tr><tr><td colspan=\"2\"></td><td class=\"subtext\">\n",
      "        <span class=\"score\" id=\"score_19002282\">551 points</span> by <a href=\"user?id=riboflavin\" class=\"hnuser\">riboflavin</a> <span class=\"age\"><a href=\"item?id=19002282\">20 hours ago</a></span> <span id=\"unv_19002282\"></span> | <a href=\"hide?id=19002282&amp;goto=news\">hide</a> | <a href=\"item?id=19002282\">346&nbsp;comments</a>              </td></tr>\n",
      "      <tr class=\"spacer\" style=\"height:5px\"></tr>\n",
      "                <tr class='athing' id='19002451'>\n",
      "      <td align=\"right\" valign=\"top\" class=\"title\"><span class=\"rank\">30.</span></td>      <td valign=\"top\" class=\"votelinks\"><center><a id='up_19002451' href='vote?id=19002451&amp;how=up&amp;goto=news'><div class='votearrow' title='upvote'></div></a></center></td><td class=\"title\"><a href=\"http://nautil.us/issue/68/context/how-black-holes-nearly-ruined-time\" class=\"storylink\" rel=\"nofollow\">How the Second Law Nearly Fell into a Black Hole</a><span class=\"sitebit comhead\"> (<a href=\"from?site=nautil.us\"><span class=\"sitestr\">nautil.us</span></a>)</span></td></tr><tr><td colspan=\"2\"></td><td class=\"subtext\">\n",
      "        <span class=\"score\" id=\"score_19002451\">20 points</span> by <a href=\"user?id=prostoalex\" class=\"hnuser\">prostoalex</a> <span class=\"age\"><a href=\"item?id=19002451\">7 hours ago</a></span> <span id=\"unv_19002451\"></span> | <a href=\"hide?id=19002451&amp;goto=news\">hide</a> | <a href=\"item?id=19002451\">4&nbsp;comments</a>              </td></tr>\n",
      "      <tr class=\"spacer\" style=\"height:5px\"></tr>\n",
      "            <tr class=\"morespace\" style=\"height:10px\"></tr><tr><td colspan=\"2\"></td><td class=\"title\"><a href=\"news?p=2\" class=\"morelink\" rel=\"nofollow\">More</a></td></tr>\n",
      "  </table>\n",
      "</td></tr>\n",
      "<tr><td><img src=\"s.gif\" height=\"10\" width=\"0\"><table width=\"100%\" cellspacing=\"0\" cellpadding=\"1\"><tr><td bgcolor=\"#ff6600\"></td></tr></table><br><center><a href=\"https://www.ycombinator.com/apply/\">\n",
      "        Applications are open for YC Summer 2019\n",
      "      </a></center><br><center><span class=\"yclinks\"><a href=\"newsguidelines.html\">Guidelines</a>\n",
      "        | <a href=\"newsfaq.html\">FAQ</a>\n",
      "        | <a href=\"mailto:hn@ycombinator.com\">Support</a>\n",
      "        | <a href=\"https://github.com/HackerNews/API\">API</a>\n",
      "        | <a href=\"security.html\">Security</a>\n",
      "        | <a href=\"lists\">Lists</a>\n",
      "        | <a href=\"bookmarklet.html\" rel=\"nofollow\">Bookmarklet</a>\n",
      "        | <a href=\"http://www.ycombinator.com/legal/\">Legal</a>\n",
      "        | <a href=\"http://www.ycombinator.com/apply/\">Apply to YC</a>\n",
      "        | <a href=\"mailto:hn@ycombinator.com\">Contact</a></span><br><br><form method=\"get\" action=\"//hn.algolia.com/\">Search:\n",
      "          <input type=\"text\" name=\"q\" value=\"\" size=\"17\" autocorrect=\"off\" spellcheck=\"false\" autocapitalize=\"off\" autocomplete=\"false\"></form>\n",
      "            </center></td></tr>\n",
      "      </table></center></body><script type='text/javascript' src='hn.js?pwvKOaFYLkbdxO4yq3qA'></script>\n",
      "  </html>\n",
      "\n"
     ]
    }
   ],
   "source": [
    "import requests\n",
    "\n",
    "# Fetch a web page\n",
    "r = requests.get(\"https://news.ycombinator.com\")\n",
    "print(r.text)"
   ]
  },
  {
   "cell_type": "code",
   "execution_count": 5,
   "metadata": {},
   "outputs": [
    {
     "name": "stdout",
     "output_type": "stream",
     "text": [
      "\n",
      "            \n",
      "          \n",
      "        Hacker News\n",
      "        \n",
      "                  Hacker News\n",
      "              new | comments | ask | show | jobs | submit            \n",
      "                              login\n",
      "                          \n",
      "              \n",
      "\n",
      "              \n",
      "      1.      Snark Barker: A 100% compatible replica of the famed SB 1.0 soundcard (github.com)\n",
      "        122 points by segfaultbuserr 3 hours ago  | hide | 40&nbsp;comments              \n",
      "      \n",
      "                \n",
      "      2.      NIST Cybersecurity Framework in MOSP (monarc.lu)\n",
      "        8 points by cedricbonhomme 1 hour ago  | hide | 1&nbsp;comment              \n",
      "      \n",
      "                \n",
      "      3.      Undercover Agents Target Cybersecurity Watchdog (nytimes.com)\n",
      "        17 points by jbegley 2 hours ago  | hide | 4&nbsp;comments              \n",
      "      \n",
      "                \n",
      "      4.      Fossil vs Git (fossil-scm.org)\n",
      "        122 points by afiori 4 hours ago  | hide | 89&nbsp;comments              \n",
      "      \n",
      "                \n",
      "      5.      “Facebook are going to monetize encrypted messaging by consolidating metadata” (threader.app)\n",
      "        28 points by mariedm 1 hour ago  | hide | 5&nbsp;comments              \n",
      "      \n",
      "                \n",
      "      6.      List of review articles on ML and AI that are on arXiv (freenode-machinelearning.github.io)\n",
      "        26 points by painful 2 hours ago  | hide | 1&nbsp;comment              \n",
      "      \n",
      "                \n",
      "      7.      The Perils and Pleasures of Bartending in Antarctica (2017) (atlasobscura.com)\n",
      "        80 points by mpweiher 7 hours ago  | hide | 25&nbsp;comments              \n",
      "      \n",
      "                \n",
      "      8.      Why Are Young People Pretending to Love Work? (nytimes.com)\n",
      "        87 points by mistersquid 1 hour ago  | hide | 58&nbsp;comments              \n",
      "      \n",
      "                \n",
      "      9.      Podman and Buildah available in RHEL 7.6 and RHEL 8 Beta (redhat.com)\n",
      "        71 points by siddharthgoel88 9 hours ago  | hide | 19&nbsp;comments              \n",
      "      \n",
      "                \n",
      "      10.      Étude, Brute? The case for Chopin (commentarymagazine.com)\n",
      "        12 points by tintinnabula 5 hours ago  | hide | 6&nbsp;comments              \n",
      "      \n",
      "                \n",
      "      11.      Boeing overhauls quality controls: more high-tech tracking but fewer inspectors (seattletimes.com)\n",
      "        26 points by wallflower 8 hours ago  | hide | 12&nbsp;comments              \n",
      "      \n",
      "                \n",
      "      12.      Scientists are transplanting faeces into obese people with type 2 diabetes (walesonline.co.uk)\n",
      "        26 points by prostoalex 6 hours ago  | hide | 25&nbsp;comments              \n",
      "      \n",
      "                \n",
      "      13.      Show HN: OormiPass – free, cross platform and open sourced password manager\n",
      "        35 points by oormicreations 7 hours ago  | hide | 34&nbsp;comments              \n",
      "      \n",
      "                \n",
      "      14.      We Can't Just Assume that Facebook Will Do Its Best (zeit.de)\n",
      "        157 points by Quanttek 6 hours ago  | hide | 56&nbsp;comments              \n",
      "      \n",
      "                \n",
      "      15.      Websocketd (websocketd.com)\n",
      "        541 points by mmcclure 17 hours ago  | hide | 183&nbsp;comments              \n",
      "      \n",
      "                \n",
      "      16.      Professional Software Development (mixmastamyk.bitbucket.io)\n",
      "        149 points by metmirr 8 hours ago  | hide | 33&nbsp;comments              \n",
      "      \n",
      "                \n",
      "      17.      A tale of Visigothic treasure lost and found (thehistoryblog.com)\n",
      "        5 points by diodorus 3 hours ago  | hide | discuss              \n",
      "      \n",
      "                \n",
      "      18.      History of Computing: Discovering Interactivity (technicshistory.wordpress.com)\n",
      "        13 points by cfmcdonald 5 hours ago  | hide | 1&nbsp;comment              \n",
      "      \n",
      "                \n",
      "      19.      Facebook Let Kids Rack Up Charges on Parents' Credit Cards (revealnews.org)\n",
      "        295 points by DamnInteresting 1 day ago  | hide | 136&nbsp;comments              \n",
      "      \n",
      "                \n",
      "      20.      Amazon’s Power Reviewers (nytimes.com)\n",
      "        6 points by flippyhead 4 hours ago  | hide | discuss              \n",
      "      \n",
      "                \n",
      "      21.      Facil.io: A micro-framework for C web applications (github.com)\n",
      "        76 points by anderspitman 12 hours ago  | hide | 18&nbsp;comments              \n",
      "      \n",
      "                \n",
      "      22.      How to Hack an Expensive Camera (alexhude.github.io)\n",
      "        370 points by pi-rat 15 hours ago  | hide | 46&nbsp;comments              \n",
      "      \n",
      "                \n",
      "      23.      Design Patterns for Managing Up (acm.org)\n",
      "        251 points by denzil_correa 16 hours ago  | hide | 42&nbsp;comments              \n",
      "      \n",
      "                \n",
      "      24.      Party is over for dirt-cheap solar panels, says China executive (reuters.com)\n",
      "        219 points by howard941 19 hours ago  | hide | 76&nbsp;comments              \n",
      "      \n",
      "                \n",
      "      25.      China deletes 'malicious' mobile apps (reuters.com)\n",
      "        9 points by theBashShell 1 hour ago  | hide | 6&nbsp;comments              \n",
      "      \n",
      "                \n",
      "      26.      Google Memo on Cost Cuts Sparks Heated Debate Inside Company (bloomberg.com)\n",
      "        161 points by petethomas 12 hours ago  | hide | 162&nbsp;comments              \n",
      "      \n",
      "                \n",
      "      27.      Apple is patenting Swift features (swift.org)\n",
      "        534 points by maxdesiatov 1 day ago  | hide | 192&nbsp;comments              \n",
      "      \n",
      "                \n",
      "      28.      It’s Time to Move on from Two Phase Commit (dbmsmusings.blogspot.com)\n",
      "        353 points by evanweaver 1 day ago  | hide | 126&nbsp;comments              \n",
      "      \n",
      "                \n",
      "      29.      Cancelling Dropbox Pro is hard (useloom.com)\n",
      "        551 points by riboflavin 20 hours ago  | hide | 346&nbsp;comments              \n",
      "      \n",
      "                \n",
      "      30.      How the Second Law Nearly Fell into a Black Hole (nautil.us)\n",
      "        20 points by prostoalex 7 hours ago  | hide | 4&nbsp;comments              \n",
      "      \n",
      "            More\n",
      "  \n",
      "\n",
      "\n",
      "        Applications are open for YC Summer 2019\n",
      "      Guidelines\n",
      "        | FAQ\n",
      "        | Support\n",
      "        | API\n",
      "        | Security\n",
      "        | Lists\n",
      "        | Bookmarklet\n",
      "        | Legal\n",
      "        | Apply to YC\n",
      "        | ContactSearch:\n",
      "          \n",
      "            \n",
      "      \n",
      "  \n",
      "\n"
     ]
    }
   ],
   "source": [
    "import re\n",
    "\n",
    "# Remove HTML tags using RegEx\n",
    "pattern = re.compile(r'<.*?>')  # tags look like <...>\n",
    "print(pattern.sub('', r.text))  # replace them with blank"
   ]
  },
  {
   "cell_type": "code",
   "execution_count": 6,
   "metadata": {},
   "outputs": [
    {
     "name": "stdout",
     "output_type": "stream",
     "text": [
      "\n",
      "            \n",
      "          \n",
      "        Hacker News\n",
      "        \n",
      "                  Hacker News\n",
      "              new | comments | ask | show | jobs | submit            \n",
      "                              login\n",
      "                          \n",
      "              \n",
      "\n",
      "              \n",
      "      1.      Snark Barker: A 100% compatible replica of the famed SB 1.0 soundcard (github.com)\n",
      "        122 points by segfaultbuserr 3 hours ago  | hide | 40 comments              \n",
      "      \n",
      "                \n",
      "      2.      NIST Cybersecurity Framework in MOSP (monarc.lu)\n",
      "        8 points by cedricbonhomme 1 hour ago  | hide | 1 comment              \n",
      "      \n",
      "                \n",
      "      3.      Undercover Agents Target Cybersecurity Watchdog (nytimes.com)\n",
      "        17 points by jbegley 2 hours ago  | hide | 4 comments              \n",
      "      \n",
      "                \n",
      "      4.      Fossil vs Git (fossil-scm.org)\n",
      "        122 points by afiori 4 hours ago  | hide | 89 comments              \n",
      "      \n",
      "                \n",
      "      5.      “Facebook are going to monetize encrypted messaging by consolidating metadata” (threader.app)\n",
      "        28 points by mariedm 1 hour ago  | hide | 5 comments              \n",
      "      \n",
      "                \n",
      "      6.      List of review articles on ML and AI that are on arXiv (freenode-machinelearning.github.io)\n",
      "        26 points by painful 2 hours ago  | hide | 1 comment              \n",
      "      \n",
      "                \n",
      "      7.      The Perils and Pleasures of Bartending in Antarctica (2017) (atlasobscura.com)\n",
      "        80 points by mpweiher 7 hours ago  | hide | 25 comments              \n",
      "      \n",
      "                \n",
      "      8.      Why Are Young People Pretending to Love Work? (nytimes.com)\n",
      "        87 points by mistersquid 1 hour ago  | hide | 58 comments              \n",
      "      \n",
      "                \n",
      "      9.      Podman and Buildah available in RHEL 7.6 and RHEL 8 Beta (redhat.com)\n",
      "        71 points by siddharthgoel88 9 hours ago  | hide | 19 comments              \n",
      "      \n",
      "                \n",
      "      10.      Étude, Brute? The case for Chopin (commentarymagazine.com)\n",
      "        12 points by tintinnabula 5 hours ago  | hide | 6 comments              \n",
      "      \n",
      "                \n",
      "      11.      Boeing overhauls quality controls: more high-tech tracking but fewer inspectors (seattletimes.com)\n",
      "        26 points by wallflower 8 hours ago  | hide | 12 comments              \n",
      "      \n",
      "                \n",
      "      12.      Scientists are transplanting faeces into obese people with type 2 diabetes (walesonline.co.uk)\n",
      "        26 points by prostoalex 6 hours ago  | hide | 25 comments              \n",
      "      \n",
      "                \n",
      "      13.      Show HN: OormiPass – free, cross platform and open sourced password manager\n",
      "        35 points by oormicreations 7 hours ago  | hide | 34 comments              \n",
      "      \n",
      "                \n",
      "      14.      We Can't Just Assume that Facebook Will Do Its Best (zeit.de)\n",
      "        157 points by Quanttek 6 hours ago  | hide | 56 comments              \n",
      "      \n",
      "                \n",
      "      15.      Websocketd (websocketd.com)\n",
      "        541 points by mmcclure 17 hours ago  | hide | 183 comments              \n",
      "      \n",
      "                \n",
      "      16.      Professional Software Development (mixmastamyk.bitbucket.io)\n",
      "        149 points by metmirr 8 hours ago  | hide | 33 comments              \n",
      "      \n",
      "                \n",
      "      17.      A tale of Visigothic treasure lost and found (thehistoryblog.com)\n",
      "        5 points by diodorus 3 hours ago  | hide | discuss              \n",
      "      \n",
      "                \n",
      "      18.      History of Computing: Discovering Interactivity (technicshistory.wordpress.com)\n",
      "        13 points by cfmcdonald 5 hours ago  | hide | 1 comment              \n",
      "      \n",
      "                \n",
      "      19.      Facebook Let Kids Rack Up Charges on Parents' Credit Cards (revealnews.org)\n",
      "        295 points by DamnInteresting 1 day ago  | hide | 136 comments              \n",
      "      \n",
      "                \n",
      "      20.      Amazon’s Power Reviewers (nytimes.com)\n",
      "        6 points by flippyhead 4 hours ago  | hide | discuss              \n",
      "      \n",
      "                \n",
      "      21.      Facil.io: A micro-framework for C web applications (github.com)\n",
      "        76 points by anderspitman 12 hours ago  | hide | 18 comments              \n",
      "      \n",
      "                \n",
      "      22.      How to Hack an Expensive Camera (alexhude.github.io)\n",
      "        370 points by pi-rat 15 hours ago  | hide | 46 comments              \n",
      "      \n",
      "                \n",
      "      23.      Design Patterns for Managing Up (acm.org)\n",
      "        251 points by denzil_correa 16 hours ago  | hide | 42 comments              \n",
      "      \n",
      "                \n",
      "      24.      Party is over for dirt-cheap solar panels, says China executive (reuters.com)\n",
      "        219 points by howard941 19 hours ago  | hide | 76 comments              \n",
      "      \n",
      "                \n",
      "      25.      China deletes 'malicious' mobile apps (reuters.com)\n",
      "        9 points by theBashShell 1 hour ago  | hide | 6 comments              \n",
      "      \n",
      "                \n",
      "      26.      Google Memo on Cost Cuts Sparks Heated Debate Inside Company (bloomberg.com)\n",
      "        161 points by petethomas 12 hours ago  | hide | 162 comments              \n",
      "      \n",
      "                \n",
      "      27.      Apple is patenting Swift features (swift.org)\n",
      "        534 points by maxdesiatov 1 day ago  | hide | 192 comments              \n",
      "      \n",
      "                \n",
      "      28.      It’s Time to Move on from Two Phase Commit (dbmsmusings.blogspot.com)\n",
      "        353 points by evanweaver 1 day ago  | hide | 126 comments              \n",
      "      \n",
      "                \n",
      "      29.      Cancelling Dropbox Pro is hard (useloom.com)\n",
      "        551 points by riboflavin 20 hours ago  | hide | 346 comments              \n",
      "      \n",
      "                \n",
      "      30.      How the Second Law Nearly Fell into a Black Hole (nautil.us)\n",
      "        20 points by prostoalex 7 hours ago  | hide | 4 comments              \n",
      "      \n",
      "            More\n",
      "  \n",
      "\n",
      "\n",
      "        Applications are open for YC Summer 2019\n",
      "      Guidelines\n",
      "        | FAQ\n",
      "        | Support\n",
      "        | API\n",
      "        | Security\n",
      "        | Lists\n",
      "        | Bookmarklet\n",
      "        | Legal\n",
      "        | Apply to YC\n",
      "        | ContactSearch:\n",
      "          \n",
      "            \n",
      "      \n",
      "  \n",
      "\n"
     ]
    }
   ],
   "source": [
    "from bs4 import BeautifulSoup\n",
    "\n",
    "# Remove HTML tags using Beautiful Soup library\n",
    "soup = BeautifulSoup(r.text, \"html5lib\")\n",
    "print(soup.get_text())"
   ]
  },
  {
   "cell_type": "code",
   "execution_count": 7,
   "metadata": {
    "scrolled": true
   },
   "outputs": [
    {
     "data": {
      "text/plain": [
       "<tr class=\"athing\" id=\"19006336\">\n",
       "      <td align=\"right\" class=\"title\" valign=\"top\"><span class=\"rank\">1.</span></td>      <td class=\"votelinks\" valign=\"top\"><center><a href=\"vote?id=19006336&amp;how=up&amp;goto=news\" id=\"up_19006336\"><div class=\"votearrow\" title=\"upvote\"></div></a></center></td><td class=\"title\"><a class=\"storylink\" href=\"https://github.com/schlae/snark-barker\">Snark Barker: A 100% compatible replica of the famed SB 1.0 soundcard</a><span class=\"sitebit comhead\"> (<a href=\"from?site=github.com\"><span class=\"sitestr\">github.com</span></a>)</span></td></tr>"
      ]
     },
     "execution_count": 7,
     "metadata": {},
     "output_type": "execute_result"
    }
   ],
   "source": [
    "# Find all articles\n",
    "summaries = soup.find_all(\"tr\", class_=\"athing\")\n",
    "summaries[0]"
   ]
  },
  {
   "cell_type": "code",
   "execution_count": 8,
   "metadata": {},
   "outputs": [
    {
     "data": {
      "text/plain": [
       "'Snark Barker: A 100% compatible replica of the famed SB 1.0 soundcard'"
      ]
     },
     "execution_count": 8,
     "metadata": {},
     "output_type": "execute_result"
    }
   ],
   "source": [
    "# Extract title\n",
    "summaries[0].find(\"a\", class_=\"storylink\").get_text().strip()"
   ]
  },
  {
   "cell_type": "code",
   "execution_count": 9,
   "metadata": {},
   "outputs": [
    {
     "name": "stdout",
     "output_type": "stream",
     "text": [
      "30 Article summaries found. Sample:\n",
      "Snark Barker: A 100% compatible replica of the famed SB 1.0 soundcard\n"
     ]
    }
   ],
   "source": [
    "# Find all articles, extract titles\n",
    "articles = []\n",
    "summaries = soup.find_all(\"tr\", class_=\"athing\")\n",
    "for summary in summaries:\n",
    "    title = summary.find(\"a\", class_=\"storylink\").get_text().strip()\n",
    "    articles.append((title))\n",
    "\n",
    "print(len(articles), \"Article summaries found. Sample:\")\n",
    "print(articles[0])"
   ]
  },
  {
   "cell_type": "markdown",
   "metadata": {
    "collapsed": true
   },
   "source": [
    "## Normalization"
   ]
  },
  {
   "cell_type": "markdown",
   "metadata": {},
   "source": [
    "### Case Normalization"
   ]
  },
  {
   "cell_type": "code",
   "execution_count": 10,
   "metadata": {},
   "outputs": [
    {
     "name": "stdout",
     "output_type": "stream",
     "text": [
      "The first time you see The Second Renaissance it may look boring. Look at it at least twice and definitely watch part 2. It will change your view of the matrix. Are the human people the ones who started the war ? Is AI a bad thing ?\n"
     ]
    }
   ],
   "source": [
    "# Sample text\n",
    "text = \"The first time you see The Second Renaissance it may look boring. Look at it at least twice and definitely watch part 2. It will change your view of the matrix. Are the human people the ones who started the war ? Is AI a bad thing ?\"\n",
    "print(text)"
   ]
  },
  {
   "cell_type": "code",
   "execution_count": 11,
   "metadata": {},
   "outputs": [
    {
     "name": "stdout",
     "output_type": "stream",
     "text": [
      "the first time you see the second renaissance it may look boring. look at it at least twice and definitely watch part 2. it will change your view of the matrix. are the human people the ones who started the war ? is ai a bad thing ?\n"
     ]
    }
   ],
   "source": [
    "# Convert to lowercase\n",
    "text = text.lower() \n",
    "print(text)"
   ]
  },
  {
   "cell_type": "markdown",
   "metadata": {},
   "source": [
    "### Punctuation Removal"
   ]
  },
  {
   "cell_type": "code",
   "execution_count": 12,
   "metadata": {},
   "outputs": [
    {
     "name": "stdout",
     "output_type": "stream",
     "text": [
      "the first time you see the second renaissance it may look boring  look at it at least twice and definitely watch part 2  it will change your view of the matrix  are the human people the ones who started the war   is ai a bad thing  \n"
     ]
    }
   ],
   "source": [
    "import re\n",
    "\n",
    "# Remove punctuation characters\n",
    "text = re.sub(r\"[^a-zA-Z0-9]\", \" \", text) \n",
    "print(text)"
   ]
  },
  {
   "cell_type": "markdown",
   "metadata": {},
   "source": [
    "## Tokenization"
   ]
  },
  {
   "cell_type": "code",
   "execution_count": 13,
   "metadata": {},
   "outputs": [
    {
     "name": "stdout",
     "output_type": "stream",
     "text": [
      "['the', 'first', 'time', 'you', 'see', 'the', 'second', 'renaissance', 'it', 'may', 'look', 'boring', 'look', 'at', 'it', 'at', 'least', 'twice', 'and', 'definitely', 'watch', 'part', '2', 'it', 'will', 'change', 'your', 'view', 'of', 'the', 'matrix', 'are', 'the', 'human', 'people', 'the', 'ones', 'who', 'started', 'the', 'war', 'is', 'ai', 'a', 'bad', 'thing']\n"
     ]
    }
   ],
   "source": [
    "# Split text into tokens (words)\n",
    "words = text.split()\n",
    "print(words)"
   ]
  },
  {
   "cell_type": "markdown",
   "metadata": {},
   "source": [
    "### NLTK: Natural Language ToolKit"
   ]
  },
  {
   "cell_type": "code",
   "execution_count": 14,
   "metadata": {},
   "outputs": [],
   "source": [
    "import os\n",
    "import nltk\n",
    "nltk.data.path.append(os.path.join(os.getcwd(), \"nltk_data\"))"
   ]
  },
  {
   "cell_type": "code",
   "execution_count": 15,
   "metadata": {},
   "outputs": [
    {
     "name": "stdout",
     "output_type": "stream",
     "text": [
      "Dr. Smith graduated from the University of Washington. He later started an analytics firm called Lux, which catered to enterprise customers.\n"
     ]
    }
   ],
   "source": [
    "# Another sample text\n",
    "text = \"Dr. Smith graduated from the University of Washington. He later started an analytics firm called Lux, which catered to enterprise customers.\"\n",
    "print(text)"
   ]
  },
  {
   "cell_type": "code",
   "execution_count": 16,
   "metadata": {},
   "outputs": [
    {
     "name": "stdout",
     "output_type": "stream",
     "text": [
      "['Dr.', 'Smith', 'graduated', 'from', 'the', 'University', 'of', 'Washington', '.', 'He', 'later', 'started', 'an', 'analytics', 'firm', 'called', 'Lux', ',', 'which', 'catered', 'to', 'enterprise', 'customers', '.']\n"
     ]
    }
   ],
   "source": [
    "from nltk.tokenize import word_tokenize\n",
    "\n",
    "# Split text into words using NLTK\n",
    "words = word_tokenize(text)\n",
    "print(words)"
   ]
  },
  {
   "cell_type": "code",
   "execution_count": 17,
   "metadata": {},
   "outputs": [
    {
     "name": "stdout",
     "output_type": "stream",
     "text": [
      "['Dr. Smith graduated from the University of Washington.', 'He later started an analytics firm called Lux, which catered to enterprise customers.']\n"
     ]
    }
   ],
   "source": [
    "from nltk.tokenize import sent_tokenize\n",
    "\n",
    "# Split text into sentences\n",
    "sentences = sent_tokenize(text)\n",
    "print(sentences)"
   ]
  },
  {
   "cell_type": "code",
   "execution_count": 18,
   "metadata": {},
   "outputs": [
    {
     "name": "stdout",
     "output_type": "stream",
     "text": [
      "['i', 'me', 'my', 'myself', 'we', 'our', 'ours', 'ourselves', 'you', \"you're\", \"you've\", \"you'll\", \"you'd\", 'your', 'yours', 'yourself', 'yourselves', 'he', 'him', 'his', 'himself', 'she', \"she's\", 'her', 'hers', 'herself', 'it', \"it's\", 'its', 'itself', 'they', 'them', 'their', 'theirs', 'themselves', 'what', 'which', 'who', 'whom', 'this', 'that', \"that'll\", 'these', 'those', 'am', 'is', 'are', 'was', 'were', 'be', 'been', 'being', 'have', 'has', 'had', 'having', 'do', 'does', 'did', 'doing', 'a', 'an', 'the', 'and', 'but', 'if', 'or', 'because', 'as', 'until', 'while', 'of', 'at', 'by', 'for', 'with', 'about', 'against', 'between', 'into', 'through', 'during', 'before', 'after', 'above', 'below', 'to', 'from', 'up', 'down', 'in', 'out', 'on', 'off', 'over', 'under', 'again', 'further', 'then', 'once', 'here', 'there', 'when', 'where', 'why', 'how', 'all', 'any', 'both', 'each', 'few', 'more', 'most', 'other', 'some', 'such', 'no', 'nor', 'not', 'only', 'own', 'same', 'so', 'than', 'too', 'very', 's', 't', 'can', 'will', 'just', 'don', \"don't\", 'should', \"should've\", 'now', 'd', 'll', 'm', 'o', 're', 've', 'y', 'ain', 'aren', \"aren't\", 'couldn', \"couldn't\", 'didn', \"didn't\", 'doesn', \"doesn't\", 'hadn', \"hadn't\", 'hasn', \"hasn't\", 'haven', \"haven't\", 'isn', \"isn't\", 'ma', 'mightn', \"mightn't\", 'mustn', \"mustn't\", 'needn', \"needn't\", 'shan', \"shan't\", 'shouldn', \"shouldn't\", 'wasn', \"wasn't\", 'weren', \"weren't\", 'won', \"won't\", 'wouldn', \"wouldn't\"]\n"
     ]
    }
   ],
   "source": [
    "# List stop words\n",
    "from nltk.corpus import stopwords\n",
    "print(stopwords.words(\"english\"))"
   ]
  },
  {
   "cell_type": "code",
   "execution_count": 19,
   "metadata": {},
   "outputs": [
    {
     "name": "stdout",
     "output_type": "stream",
     "text": [
      "['the', 'first', 'time', 'you', 'see', 'the', 'second', 'renaissance', 'it', 'may', 'look', 'boring', 'look', 'at', 'it', 'at', 'least', 'twice', 'and', 'definitely', 'watch', 'part', '2', 'it', 'will', 'change', 'your', 'view', 'of', 'the', 'matrix', 'are', 'the', 'human', 'people', 'the', 'ones', 'who', 'started', 'the', 'war', 'is', 'ai', 'a', 'bad', 'thing']\n"
     ]
    }
   ],
   "source": [
    "# Reset text\n",
    "text = \"The first time you see The Second Renaissance it may look boring. Look at it at least twice and definitely watch part 2. It will change your view of the matrix. Are the human people the ones who started the war ? Is AI a bad thing ?\"\n",
    "\n",
    "# Normalize it\n",
    "text = re.sub(r\"[^a-zA-Z0-9]\", \" \", text.lower())\n",
    "\n",
    "# Tokenize it\n",
    "words = text.split()\n",
    "print(words)"
   ]
  },
  {
   "cell_type": "code",
   "execution_count": 20,
   "metadata": {},
   "outputs": [
    {
     "name": "stdout",
     "output_type": "stream",
     "text": [
      "['first', 'time', 'see', 'second', 'renaissance', 'may', 'look', 'boring', 'look', 'least', 'twice', 'definitely', 'watch', 'part', '2', 'change', 'view', 'matrix', 'human', 'people', 'ones', 'started', 'war', 'ai', 'bad', 'thing']\n"
     ]
    }
   ],
   "source": [
    "# Remove stop words\n",
    "words = [w for w in words if w not in stopwords.words(\"english\")]\n",
    "print(words)"
   ]
  },
  {
   "cell_type": "markdown",
   "metadata": {},
   "source": [
    "### Sentence Parsing"
   ]
  },
  {
   "cell_type": "code",
   "execution_count": 21,
   "metadata": {},
   "outputs": [
    {
     "name": "stdout",
     "output_type": "stream",
     "text": [
      "(S\n",
      "  (NP I)\n",
      "  (VP\n",
      "    (VP (V shot) (NP (Det an) (N elephant)))\n",
      "    (PP (P in) (NP (Det my) (N pajamas)))))\n",
      "(S\n",
      "  (NP I)\n",
      "  (VP\n",
      "    (V shot)\n",
      "    (NP (Det an) (N elephant) (PP (P in) (NP (Det my) (N pajamas))))))\n"
     ]
    }
   ],
   "source": [
    "import nltk\n",
    "\n",
    "# Define a custom grammar\n",
    "my_grammar = nltk.CFG.fromstring(\"\"\"\n",
    "S -> NP VP\n",
    "PP -> P NP\n",
    "NP -> Det N | Det N PP | 'I'\n",
    "VP -> V NP | VP PP\n",
    "Det -> 'an' | 'my'\n",
    "N -> 'elephant' | 'pajamas'\n",
    "V -> 'shot'\n",
    "P -> 'in'\n",
    "\"\"\")\n",
    "parser = nltk.ChartParser(my_grammar)\n",
    "\n",
    "# Parse a sentence\n",
    "sentence = word_tokenize(\"I shot an elephant in my pajamas\")\n",
    "for tree in parser.parse(sentence):\n",
    "    print(tree)"
   ]
  },
  {
   "cell_type": "markdown",
   "metadata": {},
   "source": [
    "## Stemming & Lemmatization\n",
    "\n",
    "### Stemming"
   ]
  },
  {
   "cell_type": "code",
   "execution_count": 22,
   "metadata": {},
   "outputs": [
    {
     "name": "stdout",
     "output_type": "stream",
     "text": [
      "['first', 'time', 'see', 'second', 'renaiss', 'may', 'look', 'bore', 'look', 'least', 'twice', 'definit', 'watch', 'part', '2', 'chang', 'view', 'matrix', 'human', 'peopl', 'one', 'start', 'war', 'ai', 'bad', 'thing']\n"
     ]
    }
   ],
   "source": [
    "from nltk.stem.porter import PorterStemmer\n",
    "\n",
    "# Reduce words to their stems\n",
    "stemmed = [PorterStemmer().stem(w) for w in words]\n",
    "print(stemmed)"
   ]
  },
  {
   "cell_type": "markdown",
   "metadata": {},
   "source": [
    "### Lemmatization"
   ]
  },
  {
   "cell_type": "code",
   "execution_count": 23,
   "metadata": {},
   "outputs": [
    {
     "name": "stdout",
     "output_type": "stream",
     "text": [
      "['first', 'time', 'see', 'second', 'renaissance', 'may', 'look', 'boring', 'look', 'least', 'twice', 'definitely', 'watch', 'part', '2', 'change', 'view', 'matrix', 'human', 'people', 'one', 'started', 'war', 'ai', 'bad', 'thing']\n"
     ]
    }
   ],
   "source": [
    "from nltk.stem.wordnet import WordNetLemmatizer\n",
    "\n",
    "# Reduce words to their root form\n",
    "lemmed = [WordNetLemmatizer().lemmatize(w) for w in words]\n",
    "print(lemmed)"
   ]
  },
  {
   "cell_type": "code",
   "execution_count": 24,
   "metadata": {},
   "outputs": [
    {
     "name": "stdout",
     "output_type": "stream",
     "text": [
      "['first', 'time', 'see', 'second', 'renaissance', 'may', 'look', 'bore', 'look', 'least', 'twice', 'definitely', 'watch', 'part', '2', 'change', 'view', 'matrix', 'human', 'people', 'one', 'start', 'war', 'ai', 'bad', 'thing']\n"
     ]
    }
   ],
   "source": [
    "# Lemmatize verbs by specifying pos\n",
    "lemmed = [WordNetLemmatizer().lemmatize(w, pos='v') for w in lemmed]\n",
    "print(lemmed)"
   ]
  },
  {
   "cell_type": "code",
   "execution_count": null,
   "metadata": {},
   "outputs": [],
   "source": []
  }
 ],
 "metadata": {
  "kernelspec": {
   "display_name": "Python [default]",
   "language": "python",
   "name": "python3"
  },
  "language_info": {
   "codemirror_mode": {
    "name": "ipython",
    "version": 3
   },
   "file_extension": ".py",
   "mimetype": "text/x-python",
   "name": "python",
   "nbconvert_exporter": "python",
   "pygments_lexer": "ipython3",
   "version": "3.5.2"
  }
 },
 "nbformat": 4,
 "nbformat_minor": 2
}

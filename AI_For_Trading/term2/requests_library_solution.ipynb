{
 "cells": [
  {
   "cell_type": "markdown",
   "metadata": {},
   "source": [
    "# TODO: Get All The Tweets\n",
    "\n",
    "In the cell below, print all the 28 tweets in our Twitter page https://twitter.com/AIForTrading1. Start by importing the `BeautifulSoup` and `requests` libraries. Then use the `requests.get()` function with the appropriate `params` to get our website's HTML data. Then create a BeautifulSoup Object named `page_content` using our website's HTML data and the `lxml` parser. Then use the `find_all()` method to find all the `<div>` tags that have `class=\"js-tweet-text-container\"`. Then, set a counter to count each tweet. Finally, create a loop that prints all the tweets. Print the counter next to each tweet as well."
   ]
  },
  {
   "cell_type": "code",
   "execution_count": 1,
   "metadata": {},
   "outputs": [
    {
     "name": "stdout",
     "output_type": "stream",
     "text": [
      "1. The Long-Term Stock Exchange Is Worth a Shot\n",
      "2. Predicting Stock Performance with Natural Language Deep Learning\n",
      "3. Comcast Acquiring Time Warner Cable In All Stock Deal Worth $45.2 Billion\n",
      "4. Facebook stock drops more than 20% after revenue forecast misses\n",
      "5. Facebook Buying WhatsApp for $16B in Cash and Stock Plus $3B in RSUs\n",
      "6. Netflix’s ‘death cross’ is the third for FAANG stocks and Nasdaq Composite is next\n",
      "7. After Yesterday’s Signs of Recovery, Crypto Markets See Drastic Losses\n",
      "8. MF Sees Australia Risks Tilt to Downside on China, Trade War\n",
      "9. Bitcoin Cash Clash Is Costing Billions With No End in Sight\n",
      "10. SEC Crypto Settlements Spur Expectations of Wider ICO Crackdown\n",
      "11. Nissan’s Drama Looks a Lot Like a Palace Coup\n",
      "12. Yahoo Finance has apparently killed its API\n",
      "13. Tesla Tanks After Goldman Downgrades to Sell\n",
      "14. Goldman Sachs to Open a Bitcoin Trading Operation\n",
      "15. Tax-Free Bitcoin-To-Ether Trading in US to End Under GOP Plan\n",
      "16. Goldman Sachs Is Setting Up a Cryptocurrency Trading Desk\n",
      "17. Robinhood stock trading app confirms $110M raise at $1.3B valuation\n",
      "18. How I made $500k with machine learning and high frequency trading\n",
      "19. Tesla's Finance Team Is Losing Another Top Executive\n",
      "20. Finance sites erroneously show Amazon, Apple, other stocks crashing\n",
      "21. Jeff Bezos Says He Is Selling $1 Billion a Year in Amazon Stock to Finance Race to Space\n",
      "22. US government commits to publish publicly financed software under Free Software licenses\n",
      "23. The dream life is having your luggage first out of the carousel each time.\n",
      "24. Stocks Sink as Apple, Facebook Pace the Tech Wreck: Markets Wrap\n",
      "25. Elon Musk's SpaceX Cuts Loan Deal by $500 Million\n",
      "26. Nvidia Stock Falls Another 12%\n",
      "27. Anything is possible in this world! Exhibit A: Creation of a sequel to Superbabies.\n",
      "28. Elon Musk forced to step down as chairman, TSLA short all the way!\n"
     ]
    }
   ],
   "source": [
    "# Import BeautifulSoup\n",
    "from bs4 import BeautifulSoup\n",
    "\n",
    "# Import requests\n",
    "import requests\n",
    "\n",
    "# Get HTML data\n",
    "html_data = requests.get('https://twitter.com/AIForTrading1', params = {'count':'28'}).text\n",
    "\n",
    "# Create a BeautifulSoup Object\n",
    "page_content = BeautifulSoup(html_data, 'lxml')\n",
    "\n",
    "# Find all the <div> tags that have a class=\"js-tweet-text-container\" attribute\n",
    "tweets = page_content.find_all('div', class_='js-tweet-text-container')\n",
    "\n",
    "# Set counter\n",
    "counter = 1\n",
    "\n",
    "# Print all tweets. Print the counter next to each tweet as well\n",
    "for tweet in tweets:\n",
    "    print('{}. {}'.format(counter, tweet.p.get_text()))\n",
    "    counter += 1"
   ]
  },
  {
   "cell_type": "code",
   "execution_count": null,
   "metadata": {},
   "outputs": [],
   "source": []
  }
 ],
 "metadata": {
  "kernelspec": {
   "display_name": "Python [default]",
   "language": "python",
   "name": "python3"
  },
  "language_info": {
   "codemirror_mode": {
    "name": "ipython",
    "version": 3
   },
   "file_extension": ".py",
   "mimetype": "text/x-python",
   "name": "python",
   "nbconvert_exporter": "python",
   "pygments_lexer": "ipython3",
   "version": "3.5.2"
  }
 },
 "nbformat": 4,
 "nbformat_minor": 2
}

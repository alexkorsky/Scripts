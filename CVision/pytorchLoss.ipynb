{
 "cells": [
  {
   "cell_type": "code",
   "execution_count": 20,
   "metadata": {},
   "outputs": [
    {
     "name": "stdout",
     "output_type": "stream",
     "text": [
      "tensor([[ 0.3991, -0.0569, -1.5203,  0.5709,  0.6183],\n",
      "        [-1.1922, -1.5580,  2.5499, -0.8449, -1.3094],\n",
      "        [-0.6362, -1.4040, -0.6106, -0.2381,  0.4820]], requires_grad=True)\n"
     ]
    },
    {
     "data": {
      "text/plain": [
       "tensor(2.1250, grad_fn=<MseLossBackward>)"
      ]
     },
     "execution_count": 20,
     "metadata": {},
     "output_type": "execute_result"
    }
   ],
   "source": [
    "\n",
    "import torch\n",
    "import torch.nn as nn\n",
    "import torch.nn.functional as F\n",
    "import numpy as np\n",
    "\n",
    "loss = nn.MSELoss()\n",
    "\n",
    "input = torch.tensor([[2.0,5.0]], requires_grad=True) \n",
    "target = torch.tensor([[2.5,3.0]])\n",
    "\n",
    "output = loss(input, target)\n",
    "output.backward()\n",
    "output\n"
   ]
  },
  {
   "cell_type": "code",
   "execution_count": 21,
   "metadata": {},
   "outputs": [
    {
     "data": {
      "text/plain": [
       "tensor(0.8125, grad_fn=<SmoothL1LossBackward>)"
      ]
     },
     "execution_count": 21,
     "metadata": {},
     "output_type": "execute_result"
    }
   ],
   "source": [
    "loss = nn.SmoothL1Loss()\n",
    "\n",
    "input = torch.tensor([[2.0,5.0]], requires_grad=True) \n",
    "target = torch.tensor([[2.5,3.0]])\n",
    "\n",
    "output = loss(input, target)\n",
    "output.backward()\n",
    "output\n"
   ]
  },
  {
   "cell_type": "code",
   "execution_count": null,
   "metadata": {},
   "outputs": [],
   "source": []
  }
 ],
 "metadata": {
  "kernelspec": {
   "display_name": "Python [conda env:Anaconda3]",
   "language": "python",
   "name": "conda-env-Anaconda3-py"
  },
  "language_info": {
   "codemirror_mode": {
    "name": "ipython",
    "version": 3
   },
   "file_extension": ".py",
   "mimetype": "text/x-python",
   "name": "python",
   "nbconvert_exporter": "python",
   "pygments_lexer": "ipython3",
   "version": "3.5.6"
  }
 },
 "nbformat": 4,
 "nbformat_minor": 1
}
